{
 "cells": [
  {
   "cell_type": "code",
   "execution_count": 1,
   "id": "f9e5b2f8-96d2-42f3-b9ee-d8358f4a5619",
   "metadata": {},
   "outputs": [],
   "source": [
    "#import the libraries\n",
    "\n",
    "import pandas as pd\n",
    "import matplotlib.pyplot as plt\n",
    "import seaborn as sns\n",
    "import numpy as np\n",
    "import sklearn"
   ]
  },
  {
   "cell_type": "code",
   "execution_count": 2,
   "id": "94b00b4e-05b4-4ab4-b2bd-e2ec8b9f1947",
   "metadata": {},
   "outputs": [
    {
     "data": {
      "text/plain": [
       "REF_DATE                                                  int64\n",
       "GEO                                                      object\n",
       "DGUID                                                    object\n",
       "Trading Partner                                          object\n",
       "North American Product Classification System (NAPCS)     object\n",
       "Trade                                                    object\n",
       "UOM                                                      object\n",
       "UOM_ID                                                    int64\n",
       "SCALAR_FACTOR                                            object\n",
       "SCALAR_ID                                                 int64\n",
       "VECTOR                                                   object\n",
       "COORDINATE                                               object\n",
       "VALUE                                                   float64\n",
       "STATUS                                                  float64\n",
       "SYMBOL                                                  float64\n",
       "TERMINATED                                              float64\n",
       "DECIMALS                                                  int64\n",
       "dtype: object"
      ]
     },
     "execution_count": 2,
     "metadata": {},
     "output_type": "execute_result"
    }
   ],
   "source": [
    "dataset = pd.read_csv(\"Dataset.csv\")\n",
    "dataset.head()\n",
    "dataset.dtypes"
   ]
  },
  {
   "cell_type": "code",
   "execution_count": 3,
   "id": "2ea6f504-0a1b-4391-b0af-8d747b0fb428",
   "metadata": {},
   "outputs": [
    {
     "data": {
      "text/plain": [
       "REF_DATE                                                  0.0\n",
       "GEO                                                       0.0\n",
       "DGUID                                                     0.0\n",
       "Trading Partner                                           0.0\n",
       "North American Product Classification System (NAPCS)      0.0\n",
       "Trade                                                     0.0\n",
       "UOM                                                       0.0\n",
       "UOM_ID                                                    0.0\n",
       "SCALAR_FACTOR                                             0.0\n",
       "SCALAR_ID                                                 0.0\n",
       "VECTOR                                                    0.0\n",
       "COORDINATE                                                0.0\n",
       "VALUE                                                     0.0\n",
       "STATUS                                                  100.0\n",
       "SYMBOL                                                  100.0\n",
       "TERMINATED                                              100.0\n",
       "DECIMALS                                                  0.0\n",
       "dtype: float64"
      ]
     },
     "execution_count": 3,
     "metadata": {},
     "output_type": "execute_result"
    }
   ],
   "source": [
    "#checking the percentage of missing values in each variable\n",
    "\n",
    "dataset.isnull().sum()/len(dataset)*100"
   ]
  },
  {
   "cell_type": "code",
   "execution_count": 4,
   "id": "bf7f6f25-2432-4729-8e04-5076ef4c8058",
   "metadata": {},
   "outputs": [
    {
     "name": "stderr",
     "output_type": "stream",
     "text": [
      "C:\\Users\\visha\\AppData\\Local\\Temp/ipykernel_10008/2156671949.py:1: FutureWarning: In a future version of pandas all arguments of DataFrame.drop except for the argument 'labels' will be keyword-only\n",
      "  dataset = dataset.drop('SYMBOL', 1)\n"
     ]
    }
   ],
   "source": [
    "dataset = dataset.drop('SYMBOL', 1)"
   ]
  },
  {
   "cell_type": "code",
   "execution_count": 5,
   "id": "b7dbda78-e853-4967-96b8-58171b6c8205",
   "metadata": {},
   "outputs": [
    {
     "name": "stderr",
     "output_type": "stream",
     "text": [
      "C:\\Users\\visha\\AppData\\Local\\Temp/ipykernel_10008/525946873.py:1: FutureWarning: In a future version of pandas all arguments of DataFrame.drop except for the argument 'labels' will be keyword-only\n",
      "  dataset = dataset.drop('STATUS', 1)\n"
     ]
    }
   ],
   "source": [
    "dataset = dataset.drop('STATUS', 1)"
   ]
  },
  {
   "cell_type": "code",
   "execution_count": 6,
   "id": "f67dc728-e5a0-47f7-982f-19821a04dec3",
   "metadata": {},
   "outputs": [
    {
     "name": "stderr",
     "output_type": "stream",
     "text": [
      "C:\\Users\\visha\\AppData\\Local\\Temp/ipykernel_10008/2468267595.py:1: FutureWarning: In a future version of pandas all arguments of DataFrame.drop except for the argument 'labels' will be keyword-only\n",
      "  dataset = dataset.drop('TERMINATED', 1)\n"
     ]
    }
   ],
   "source": [
    "dataset = dataset.drop('TERMINATED', 1)"
   ]
  },
  {
   "cell_type": "code",
   "execution_count": 7,
   "id": "10732dff-236b-4ab7-a662-2370294b8379",
   "metadata": {},
   "outputs": [
    {
     "data": {
      "text/plain": [
       "REF_DATE                                                0.0\n",
       "GEO                                                     0.0\n",
       "DGUID                                                   0.0\n",
       "Trading Partner                                         0.0\n",
       "North American Product Classification System (NAPCS)    0.0\n",
       "Trade                                                   0.0\n",
       "UOM                                                     0.0\n",
       "UOM_ID                                                  0.0\n",
       "SCALAR_FACTOR                                           0.0\n",
       "SCALAR_ID                                               0.0\n",
       "VECTOR                                                  0.0\n",
       "COORDINATE                                              0.0\n",
       "VALUE                                                   0.0\n",
       "DECIMALS                                                0.0\n",
       "dtype: float64"
      ]
     },
     "execution_count": 7,
     "metadata": {},
     "output_type": "execute_result"
    }
   ],
   "source": [
    "dataset.isnull().sum()/len(dataset)*100"
   ]
  },
  {
   "cell_type": "code",
   "execution_count": 8,
   "id": "bd1f1f6d-a9e4-41cf-81e4-c305dc921e92",
   "metadata": {},
   "outputs": [],
   "source": [
    "#check if any are more than the threshold\n",
    "null_percentages = dataset.isnull().sum()/len(dataset)*100\n",
    "\n",
    "#saving column names in a variable\n",
    "features = dataset.columns\n",
    "feature = [ ]\n",
    "\n",
    "for i in range(0, len(null_percentages)):\n",
    "    if null_percentages[i] <= 20: #setting the threshold values i.e. 20%\n",
    "        feature.append(features[i])"
   ]
  },
  {
   "cell_type": "code",
   "execution_count": 9,
   "id": "6cca4a55-2386-4a79-a9a5-37d465ee9980",
   "metadata": {},
   "outputs": [],
   "source": [
    "trading_partner_code, uniques1 = pd.factorize(dataset['Trading Partner'])\n",
    "napcs_code, uniques2 = pd.factorize(dataset['North American Product Classification System (NAPCS)'])\n",
    "trade_code, uniques3 = pd.factorize(dataset['Trade'])\n",
    "vector_code, uniques4 = pd.factorize(dataset['VECTOR'])\n",
    "coordinate_code, uniques5 = pd.factorize(dataset['COORDINATE'])\n"
   ]
  },
  {
   "cell_type": "code",
   "execution_count": 10,
   "id": "42406e1d-635c-43bf-9968-b788fd9916f0",
   "metadata": {},
   "outputs": [],
   "source": [
    "dataset['Trading Partner'] = trading_partner_code\n",
    "dataset['North American Product Classification System (NAPCS)'] = napcs_code\n",
    "dataset['Trade'] = trade_code\n",
    "dataset['VECTOR'] = vector_code\n",
    "dataset['COORDINATE'] = coordinate_code"
   ]
  },
  {
   "cell_type": "code",
   "execution_count": 11,
   "id": "9da398c1-63c7-4952-999f-b0205949589b",
   "metadata": {},
   "outputs": [
    {
     "data": {
      "text/html": [
       "<div>\n",
       "<style scoped>\n",
       "    .dataframe tbody tr th:only-of-type {\n",
       "        vertical-align: middle;\n",
       "    }\n",
       "\n",
       "    .dataframe tbody tr th {\n",
       "        vertical-align: top;\n",
       "    }\n",
       "\n",
       "    .dataframe thead th {\n",
       "        text-align: right;\n",
       "    }\n",
       "</style>\n",
       "<table border=\"1\" class=\"dataframe\">\n",
       "  <thead>\n",
       "    <tr style=\"text-align: right;\">\n",
       "      <th></th>\n",
       "      <th>REF_DATE</th>\n",
       "      <th>GEO</th>\n",
       "      <th>DGUID</th>\n",
       "      <th>Trading Partner</th>\n",
       "      <th>North American Product Classification System (NAPCS)</th>\n",
       "      <th>Trade</th>\n",
       "      <th>UOM</th>\n",
       "      <th>UOM_ID</th>\n",
       "      <th>SCALAR_FACTOR</th>\n",
       "      <th>SCALAR_ID</th>\n",
       "      <th>VECTOR</th>\n",
       "      <th>COORDINATE</th>\n",
       "      <th>VALUE</th>\n",
       "      <th>DECIMALS</th>\n",
       "    </tr>\n",
       "  </thead>\n",
       "  <tbody>\n",
       "    <tr>\n",
       "      <th>0</th>\n",
       "      <td>2015</td>\n",
       "      <td>Canada</td>\n",
       "      <td>2016A000011124</td>\n",
       "      <td>0</td>\n",
       "      <td>0</td>\n",
       "      <td>0</td>\n",
       "      <td>Dollars</td>\n",
       "      <td>81</td>\n",
       "      <td>thousands</td>\n",
       "      <td>3</td>\n",
       "      <td>0</td>\n",
       "      <td>0</td>\n",
       "      <td>145.7</td>\n",
       "      <td>1</td>\n",
       "    </tr>\n",
       "    <tr>\n",
       "      <th>1</th>\n",
       "      <td>2015</td>\n",
       "      <td>Canada</td>\n",
       "      <td>2016A000011124</td>\n",
       "      <td>0</td>\n",
       "      <td>0</td>\n",
       "      <td>1</td>\n",
       "      <td>Dollars</td>\n",
       "      <td>81</td>\n",
       "      <td>thousands</td>\n",
       "      <td>3</td>\n",
       "      <td>1</td>\n",
       "      <td>1</td>\n",
       "      <td>139.4</td>\n",
       "      <td>1</td>\n",
       "    </tr>\n",
       "    <tr>\n",
       "      <th>2</th>\n",
       "      <td>2015</td>\n",
       "      <td>Canada</td>\n",
       "      <td>2016A000011124</td>\n",
       "      <td>0</td>\n",
       "      <td>1</td>\n",
       "      <td>0</td>\n",
       "      <td>Dollars</td>\n",
       "      <td>81</td>\n",
       "      <td>thousands</td>\n",
       "      <td>3</td>\n",
       "      <td>2</td>\n",
       "      <td>2</td>\n",
       "      <td>0.0</td>\n",
       "      <td>1</td>\n",
       "    </tr>\n",
       "    <tr>\n",
       "      <th>3</th>\n",
       "      <td>2015</td>\n",
       "      <td>Canada</td>\n",
       "      <td>2016A000011124</td>\n",
       "      <td>0</td>\n",
       "      <td>1</td>\n",
       "      <td>1</td>\n",
       "      <td>Dollars</td>\n",
       "      <td>81</td>\n",
       "      <td>thousands</td>\n",
       "      <td>3</td>\n",
       "      <td>3</td>\n",
       "      <td>3</td>\n",
       "      <td>0.0</td>\n",
       "      <td>1</td>\n",
       "    </tr>\n",
       "    <tr>\n",
       "      <th>4</th>\n",
       "      <td>2015</td>\n",
       "      <td>Canada</td>\n",
       "      <td>2016A000011124</td>\n",
       "      <td>0</td>\n",
       "      <td>2</td>\n",
       "      <td>0</td>\n",
       "      <td>Dollars</td>\n",
       "      <td>81</td>\n",
       "      <td>thousands</td>\n",
       "      <td>3</td>\n",
       "      <td>4</td>\n",
       "      <td>4</td>\n",
       "      <td>0.0</td>\n",
       "      <td>1</td>\n",
       "    </tr>\n",
       "  </tbody>\n",
       "</table>\n",
       "</div>"
      ],
      "text/plain": [
       "   REF_DATE     GEO           DGUID  Trading Partner  \\\n",
       "0      2015  Canada  2016A000011124                0   \n",
       "1      2015  Canada  2016A000011124                0   \n",
       "2      2015  Canada  2016A000011124                0   \n",
       "3      2015  Canada  2016A000011124                0   \n",
       "4      2015  Canada  2016A000011124                0   \n",
       "\n",
       "   North American Product Classification System (NAPCS)  Trade      UOM  \\\n",
       "0                                                  0         0  Dollars   \n",
       "1                                                  0         1  Dollars   \n",
       "2                                                  1         0  Dollars   \n",
       "3                                                  1         1  Dollars   \n",
       "4                                                  2         0  Dollars   \n",
       "\n",
       "   UOM_ID SCALAR_FACTOR  SCALAR_ID  VECTOR  COORDINATE  VALUE  DECIMALS  \n",
       "0      81     thousands          3       0           0  145.7         1  \n",
       "1      81     thousands          3       1           1  139.4         1  \n",
       "2      81     thousands          3       2           2    0.0         1  \n",
       "3      81     thousands          3       3           3    0.0         1  \n",
       "4      81     thousands          3       4           4    0.0         1  "
      ]
     },
     "execution_count": 11,
     "metadata": {},
     "output_type": "execute_result"
    }
   ],
   "source": [
    "dataset.head()"
   ]
  },
  {
   "cell_type": "markdown",
   "id": "70d27595-9694-4df7-a23f-473489dff890",
   "metadata": {},
   "source": [
    "## LOW VARIANCE"
   ]
  },
  {
   "cell_type": "code",
   "execution_count": 12,
   "id": "093b58e4-5252-4949-85bb-72426b3598fd",
   "metadata": {},
   "outputs": [
    {
     "name": "stderr",
     "output_type": "stream",
     "text": [
      "C:\\Users\\visha\\AppData\\Local\\Temp/ipykernel_10008/2849960425.py:3: FutureWarning: Dropping of nuisance columns in DataFrame reductions (with 'numeric_only=None') is deprecated; in a future version this will raise TypeError.  Select only valid columns before calling the reduction.\n",
      "  dataset.var()\n"
     ]
    },
    {
     "data": {
      "text/plain": [
       "REF_DATE                                                4.000093e+00\n",
       "Trading Partner                                         5.504127e+03\n",
       "North American Product Classification System (NAPCS)    1.191694e+01\n",
       "Trade                                                   2.500058e-01\n",
       "UOM_ID                                                  0.000000e+00\n",
       "SCALAR_ID                                               0.000000e+00\n",
       "VECTOR                                                  3.170425e+06\n",
       "COORDINATE                                              3.170425e+06\n",
       "VALUE                                                   5.828259e+12\n",
       "DECIMALS                                                0.000000e+00\n",
       "dtype: float64"
      ]
     },
     "execution_count": 12,
     "metadata": {},
     "output_type": "execute_result"
    }
   ],
   "source": [
    "#check the variance\n",
    "\n",
    "dataset.var()"
   ]
  },
  {
   "cell_type": "code",
   "execution_count": 13,
   "id": "4028887d-39d2-4a28-b73d-c196fcb1691a",
   "metadata": {},
   "outputs": [],
   "source": [
    "#density has the least variance which is very less when compared to other variables so we can safelt drop this \n",
    "\n",
    "dataset = dataset.drop(['UOM_ID'], axis =1)\n",
    "dataset = dataset.drop(['SCALAR_ID'], axis =1)\n",
    "dataset = dataset.drop(['DECIMALS'], axis =1)"
   ]
  },
  {
   "cell_type": "code",
   "execution_count": 14,
   "id": "247840a2-fa49-4aa9-b6c0-a0c264b957c9",
   "metadata": {},
   "outputs": [
    {
     "data": {
      "text/html": [
       "<div>\n",
       "<style scoped>\n",
       "    .dataframe tbody tr th:only-of-type {\n",
       "        vertical-align: middle;\n",
       "    }\n",
       "\n",
       "    .dataframe tbody tr th {\n",
       "        vertical-align: top;\n",
       "    }\n",
       "\n",
       "    .dataframe thead th {\n",
       "        text-align: right;\n",
       "    }\n",
       "</style>\n",
       "<table border=\"1\" class=\"dataframe\">\n",
       "  <thead>\n",
       "    <tr style=\"text-align: right;\">\n",
       "      <th></th>\n",
       "      <th>REF_DATE</th>\n",
       "      <th>Trading Partner</th>\n",
       "      <th>North American Product Classification System (NAPCS)</th>\n",
       "      <th>Trade</th>\n",
       "      <th>VECTOR</th>\n",
       "      <th>COORDINATE</th>\n",
       "      <th>VALUE</th>\n",
       "    </tr>\n",
       "  </thead>\n",
       "  <tbody>\n",
       "    <tr>\n",
       "      <th>REF_DATE</th>\n",
       "      <td>1.000000e+00</td>\n",
       "      <td>-2.226492e-13</td>\n",
       "      <td>-6.580511e-15</td>\n",
       "      <td>-9.152603e-17</td>\n",
       "      <td>-2.346232e-13</td>\n",
       "      <td>-2.346232e-13</td>\n",
       "      <td>0.003223</td>\n",
       "    </tr>\n",
       "    <tr>\n",
       "      <th>Trading Partner</th>\n",
       "      <td>-2.226492e-13</td>\n",
       "      <td>1.000000e+00</td>\n",
       "      <td>-6.244496e-16</td>\n",
       "      <td>3.726644e-19</td>\n",
       "      <td>9.999924e-01</td>\n",
       "      <td>9.999924e-01</td>\n",
       "      <td>0.068940</td>\n",
       "    </tr>\n",
       "    <tr>\n",
       "      <th>North American Product Classification System (NAPCS)</th>\n",
       "      <td>-6.580511e-15</td>\n",
       "      <td>-6.244496e-16</td>\n",
       "      <td>1.000000e+00</td>\n",
       "      <td>-2.383639e-19</td>\n",
       "      <td>3.877517e-03</td>\n",
       "      <td>3.877517e-03</td>\n",
       "      <td>0.006775</td>\n",
       "    </tr>\n",
       "    <tr>\n",
       "      <th>Trade</th>\n",
       "      <td>-9.152603e-17</td>\n",
       "      <td>3.726644e-19</td>\n",
       "      <td>-2.383639e-19</td>\n",
       "      <td>1.000000e+00</td>\n",
       "      <td>2.808124e-04</td>\n",
       "      <td>2.808124e-04</td>\n",
       "      <td>0.000658</td>\n",
       "    </tr>\n",
       "    <tr>\n",
       "      <th>VECTOR</th>\n",
       "      <td>-2.346232e-13</td>\n",
       "      <td>9.999924e-01</td>\n",
       "      <td>3.877517e-03</td>\n",
       "      <td>2.808124e-04</td>\n",
       "      <td>1.000000e+00</td>\n",
       "      <td>1.000000e+00</td>\n",
       "      <td>0.068966</td>\n",
       "    </tr>\n",
       "    <tr>\n",
       "      <th>COORDINATE</th>\n",
       "      <td>-2.346232e-13</td>\n",
       "      <td>9.999924e-01</td>\n",
       "      <td>3.877517e-03</td>\n",
       "      <td>2.808124e-04</td>\n",
       "      <td>1.000000e+00</td>\n",
       "      <td>1.000000e+00</td>\n",
       "      <td>0.068966</td>\n",
       "    </tr>\n",
       "    <tr>\n",
       "      <th>VALUE</th>\n",
       "      <td>3.222872e-03</td>\n",
       "      <td>6.894031e-02</td>\n",
       "      <td>6.775393e-03</td>\n",
       "      <td>6.582759e-04</td>\n",
       "      <td>6.896625e-02</td>\n",
       "      <td>6.896625e-02</td>\n",
       "      <td>1.000000</td>\n",
       "    </tr>\n",
       "  </tbody>\n",
       "</table>\n",
       "</div>"
      ],
      "text/plain": [
       "                                                        REF_DATE  \\\n",
       "REF_DATE                                            1.000000e+00   \n",
       "Trading Partner                                    -2.226492e-13   \n",
       "North American Product Classification System (N... -6.580511e-15   \n",
       "Trade                                              -9.152603e-17   \n",
       "VECTOR                                             -2.346232e-13   \n",
       "COORDINATE                                         -2.346232e-13   \n",
       "VALUE                                               3.222872e-03   \n",
       "\n",
       "                                                    Trading Partner  \\\n",
       "REF_DATE                                              -2.226492e-13   \n",
       "Trading Partner                                        1.000000e+00   \n",
       "North American Product Classification System (N...    -6.244496e-16   \n",
       "Trade                                                  3.726644e-19   \n",
       "VECTOR                                                 9.999924e-01   \n",
       "COORDINATE                                             9.999924e-01   \n",
       "VALUE                                                  6.894031e-02   \n",
       "\n",
       "                                                    North American Product Classification System (NAPCS)  \\\n",
       "REF_DATE                                                                                -6.580511e-15      \n",
       "Trading Partner                                                                         -6.244496e-16      \n",
       "North American Product Classification System (N...                                       1.000000e+00      \n",
       "Trade                                                                                   -2.383639e-19      \n",
       "VECTOR                                                                                   3.877517e-03      \n",
       "COORDINATE                                                                               3.877517e-03      \n",
       "VALUE                                                                                    6.775393e-03      \n",
       "\n",
       "                                                           Trade  \\\n",
       "REF_DATE                                           -9.152603e-17   \n",
       "Trading Partner                                     3.726644e-19   \n",
       "North American Product Classification System (N... -2.383639e-19   \n",
       "Trade                                               1.000000e+00   \n",
       "VECTOR                                              2.808124e-04   \n",
       "COORDINATE                                          2.808124e-04   \n",
       "VALUE                                               6.582759e-04   \n",
       "\n",
       "                                                          VECTOR  \\\n",
       "REF_DATE                                           -2.346232e-13   \n",
       "Trading Partner                                     9.999924e-01   \n",
       "North American Product Classification System (N...  3.877517e-03   \n",
       "Trade                                               2.808124e-04   \n",
       "VECTOR                                              1.000000e+00   \n",
       "COORDINATE                                          1.000000e+00   \n",
       "VALUE                                               6.896625e-02   \n",
       "\n",
       "                                                      COORDINATE     VALUE  \n",
       "REF_DATE                                           -2.346232e-13  0.003223  \n",
       "Trading Partner                                     9.999924e-01  0.068940  \n",
       "North American Product Classification System (N...  3.877517e-03  0.006775  \n",
       "Trade                                               2.808124e-04  0.000658  \n",
       "VECTOR                                              1.000000e+00  0.068966  \n",
       "COORDINATE                                          1.000000e+00  0.068966  \n",
       "VALUE                                               6.896625e-02  1.000000  "
      ]
     },
     "execution_count": 14,
     "metadata": {},
     "output_type": "execute_result"
    }
   ],
   "source": [
    "#checking the correlation\n",
    "dataset.corr()"
   ]
  },
  {
   "cell_type": "code",
   "execution_count": 15,
   "id": "5ff9515c-b9be-46b2-9ada-5f59563f082b",
   "metadata": {},
   "outputs": [
    {
     "data": {
      "image/png": "[encoded data removed]",
      "text/plain": [
       "<Figure size 576x576 with 2 Axes>"
      ]
     },
     "metadata": {
      "needs_background": "light"
     },
     "output_type": "display_data"
    }
   ],
   "source": [
    "#making a heatmap\n",
    "\n",
    "plt.figure(figsize = (8,8))\n",
    "sns.heatmap(dataset.corr(), annot = True)\n",
    "plt.title('Correlation Matrix', fontsize = 20)\n",
    "plt.xlabel('Parameters', fontsize = 15)\n",
    "plt.ylabel('Parameters', fontsize = 15)\n",
    "plt.show()"
   ]
  },
  {
   "cell_type": "code",
   "execution_count": 16,
   "id": "992f47dc-db38-4885-ab0d-0f65aedcee2e",
   "metadata": {},
   "outputs": [],
   "source": [
    "dataset = dataset.drop(['VECTOR'], axis=1)\n",
    "dataset = dataset.drop(['COORDINATE'], axis=1)"
   ]
  },
  {
   "cell_type": "code",
   "execution_count": 17,
   "id": "e79437e6-9519-4e47-8d68-819862452d4b",
   "metadata": {},
   "outputs": [
    {
     "data": {
      "text/html": [
       "<div>\n",
       "<style scoped>\n",
       "    .dataframe tbody tr th:only-of-type {\n",
       "        vertical-align: middle;\n",
       "    }\n",
       "\n",
       "    .dataframe tbody tr th {\n",
       "        vertical-align: top;\n",
       "    }\n",
       "\n",
       "    .dataframe thead th {\n",
       "        text-align: right;\n",
       "    }\n",
       "</style>\n",
       "<table border=\"1\" class=\"dataframe\">\n",
       "  <thead>\n",
       "    <tr style=\"text-align: right;\">\n",
       "      <th></th>\n",
       "      <th>REF_DATE</th>\n",
       "      <th>GEO</th>\n",
       "      <th>DGUID</th>\n",
       "      <th>Trading Partner</th>\n",
       "      <th>North American Product Classification System (NAPCS)</th>\n",
       "      <th>Trade</th>\n",
       "      <th>UOM</th>\n",
       "      <th>SCALAR_FACTOR</th>\n",
       "      <th>VALUE</th>\n",
       "    </tr>\n",
       "  </thead>\n",
       "  <tbody>\n",
       "    <tr>\n",
       "      <th>0</th>\n",
       "      <td>2015</td>\n",
       "      <td>Canada</td>\n",
       "      <td>2016A000011124</td>\n",
       "      <td>0</td>\n",
       "      <td>0</td>\n",
       "      <td>0</td>\n",
       "      <td>Dollars</td>\n",
       "      <td>thousands</td>\n",
       "      <td>145.7</td>\n",
       "    </tr>\n",
       "    <tr>\n",
       "      <th>1</th>\n",
       "      <td>2015</td>\n",
       "      <td>Canada</td>\n",
       "      <td>2016A000011124</td>\n",
       "      <td>0</td>\n",
       "      <td>0</td>\n",
       "      <td>1</td>\n",
       "      <td>Dollars</td>\n",
       "      <td>thousands</td>\n",
       "      <td>139.4</td>\n",
       "    </tr>\n",
       "    <tr>\n",
       "      <th>2</th>\n",
       "      <td>2015</td>\n",
       "      <td>Canada</td>\n",
       "      <td>2016A000011124</td>\n",
       "      <td>0</td>\n",
       "      <td>1</td>\n",
       "      <td>0</td>\n",
       "      <td>Dollars</td>\n",
       "      <td>thousands</td>\n",
       "      <td>0.0</td>\n",
       "    </tr>\n",
       "    <tr>\n",
       "      <th>3</th>\n",
       "      <td>2015</td>\n",
       "      <td>Canada</td>\n",
       "      <td>2016A000011124</td>\n",
       "      <td>0</td>\n",
       "      <td>1</td>\n",
       "      <td>1</td>\n",
       "      <td>Dollars</td>\n",
       "      <td>thousands</td>\n",
       "      <td>0.0</td>\n",
       "    </tr>\n",
       "    <tr>\n",
       "      <th>4</th>\n",
       "      <td>2015</td>\n",
       "      <td>Canada</td>\n",
       "      <td>2016A000011124</td>\n",
       "      <td>0</td>\n",
       "      <td>2</td>\n",
       "      <td>0</td>\n",
       "      <td>Dollars</td>\n",
       "      <td>thousands</td>\n",
       "      <td>0.0</td>\n",
       "    </tr>\n",
       "  </tbody>\n",
       "</table>\n",
       "</div>"
      ],
      "text/plain": [
       "   REF_DATE     GEO           DGUID  Trading Partner  \\\n",
       "0      2015  Canada  2016A000011124                0   \n",
       "1      2015  Canada  2016A000011124                0   \n",
       "2      2015  Canada  2016A000011124                0   \n",
       "3      2015  Canada  2016A000011124                0   \n",
       "4      2015  Canada  2016A000011124                0   \n",
       "\n",
       "   North American Product Classification System (NAPCS)  Trade      UOM  \\\n",
       "0                                                  0         0  Dollars   \n",
       "1                                                  0         1  Dollars   \n",
       "2                                                  1         0  Dollars   \n",
       "3                                                  1         1  Dollars   \n",
       "4                                                  2         0  Dollars   \n",
       "\n",
       "  SCALAR_FACTOR  VALUE  \n",
       "0     thousands  145.7  \n",
       "1     thousands  139.4  \n",
       "2     thousands    0.0  \n",
       "3     thousands    0.0  \n",
       "4     thousands    0.0  "
      ]
     },
     "execution_count": 17,
     "metadata": {},
     "output_type": "execute_result"
    }
   ],
   "source": [
    "dataset.head()"
   ]
  },
  {
   "cell_type": "code",
   "execution_count": null,
   "id": "4e106555-deac-416d-85b7-437732b87596",
   "metadata": {},
   "outputs": [],
   "source": []
  },
  {
   "cell_type": "markdown",
   "id": "dae8fc85-5497-4666-99f5-18ce208d0270",
   "metadata": {},
   "source": [
    "## RANDOM FOREST"
   ]
  },
  {
   "cell_type": "code",
   "execution_count": 18,
   "id": "74040a8f-c579-47e0-babc-98abc4309188",
   "metadata": {},
   "outputs": [],
   "source": [
    "#convert the type category into numerical data - ordinal encoding\n",
    "\n",
    "dataset = dataset.replace('Canada', 0)\n",
    "dataset = dataset.replace('Other', 1)\n",
    "dataset = dataset.replace('Dollars', 0)\n",
    "dataset = dataset.replace('thousands', 0)\n",
    "dataset = dataset.replace('2016A000011124', 0)"
   ]
  },
  {
   "cell_type": "code",
   "execution_count": 19,
   "id": "3909a3de-ec55-4975-9361-fb1f09b51bde",
   "metadata": {},
   "outputs": [
    {
     "data": {
      "text/html": [
       "<div>\n",
       "<style scoped>\n",
       "    .dataframe tbody tr th:only-of-type {\n",
       "        vertical-align: middle;\n",
       "    }\n",
       "\n",
       "    .dataframe tbody tr th {\n",
       "        vertical-align: top;\n",
       "    }\n",
       "\n",
       "    .dataframe thead th {\n",
       "        text-align: right;\n",
       "    }\n",
       "</style>\n",
       "<table border=\"1\" class=\"dataframe\">\n",
       "  <thead>\n",
       "    <tr style=\"text-align: right;\">\n",
       "      <th></th>\n",
       "      <th>REF_DATE</th>\n",
       "      <th>GEO</th>\n",
       "      <th>DGUID</th>\n",
       "      <th>Trading Partner</th>\n",
       "      <th>North American Product Classification System (NAPCS)</th>\n",
       "      <th>Trade</th>\n",
       "      <th>UOM</th>\n",
       "      <th>SCALAR_FACTOR</th>\n",
       "      <th>VALUE</th>\n",
       "    </tr>\n",
       "  </thead>\n",
       "  <tbody>\n",
       "    <tr>\n",
       "      <th>0</th>\n",
       "      <td>2015</td>\n",
       "      <td>0</td>\n",
       "      <td>0</td>\n",
       "      <td>0</td>\n",
       "      <td>0</td>\n",
       "      <td>0</td>\n",
       "      <td>0</td>\n",
       "      <td>0</td>\n",
       "      <td>145.7</td>\n",
       "    </tr>\n",
       "    <tr>\n",
       "      <th>1</th>\n",
       "      <td>2015</td>\n",
       "      <td>0</td>\n",
       "      <td>0</td>\n",
       "      <td>0</td>\n",
       "      <td>0</td>\n",
       "      <td>1</td>\n",
       "      <td>0</td>\n",
       "      <td>0</td>\n",
       "      <td>139.4</td>\n",
       "    </tr>\n",
       "    <tr>\n",
       "      <th>2</th>\n",
       "      <td>2015</td>\n",
       "      <td>0</td>\n",
       "      <td>0</td>\n",
       "      <td>0</td>\n",
       "      <td>1</td>\n",
       "      <td>0</td>\n",
       "      <td>0</td>\n",
       "      <td>0</td>\n",
       "      <td>0.0</td>\n",
       "    </tr>\n",
       "    <tr>\n",
       "      <th>3</th>\n",
       "      <td>2015</td>\n",
       "      <td>0</td>\n",
       "      <td>0</td>\n",
       "      <td>0</td>\n",
       "      <td>1</td>\n",
       "      <td>1</td>\n",
       "      <td>0</td>\n",
       "      <td>0</td>\n",
       "      <td>0.0</td>\n",
       "    </tr>\n",
       "    <tr>\n",
       "      <th>4</th>\n",
       "      <td>2015</td>\n",
       "      <td>0</td>\n",
       "      <td>0</td>\n",
       "      <td>0</td>\n",
       "      <td>2</td>\n",
       "      <td>0</td>\n",
       "      <td>0</td>\n",
       "      <td>0</td>\n",
       "      <td>0.0</td>\n",
       "    </tr>\n",
       "  </tbody>\n",
       "</table>\n",
       "</div>"
      ],
      "text/plain": [
       "   REF_DATE  GEO  DGUID  Trading Partner  \\\n",
       "0      2015    0      0                0   \n",
       "1      2015    0      0                0   \n",
       "2      2015    0      0                0   \n",
       "3      2015    0      0                0   \n",
       "4      2015    0      0                0   \n",
       "\n",
       "   North American Product Classification System (NAPCS)  Trade  UOM  \\\n",
       "0                                                  0         0    0   \n",
       "1                                                  0         1    0   \n",
       "2                                                  1         0    0   \n",
       "3                                                  1         1    0   \n",
       "4                                                  2         0    0   \n",
       "\n",
       "   SCALAR_FACTOR  VALUE  \n",
       "0              0  145.7  \n",
       "1              0  139.4  \n",
       "2              0    0.0  \n",
       "3              0    0.0  \n",
       "4              0    0.0  "
      ]
     },
     "execution_count": 19,
     "metadata": {},
     "output_type": "execute_result"
    }
   ],
   "source": [
    "dataset.head()"
   ]
  },
  {
   "cell_type": "code",
   "execution_count": 20,
   "id": "60eeeef7-7ce0-4405-b9fd-b631f5bf6eb3",
   "metadata": {},
   "outputs": [],
   "source": [
    "#drop the target variable type and load this data into another dataframe\n",
    "\n",
    "df = dataset.drop(['VALUE'], axis = 1)"
   ]
  },
  {
   "cell_type": "code",
   "execution_count": 21,
   "id": "44596d96-1621-4950-b7aa-6040611e9701",
   "metadata": {},
   "outputs": [
    {
     "data": {
      "text/plain": [
       "RandomForestRegressor(max_depth=10, random_state=1)"
      ]
     },
     "execution_count": 21,
     "metadata": {},
     "output_type": "execute_result"
    }
   ],
   "source": [
    "#import the package for random forest\n",
    "\n",
    "from sklearn.ensemble import RandomForestRegressor\n",
    "\n",
    "model = RandomForestRegressor(random_state=1, max_depth=10)\n",
    "model.fit(df, dataset.VALUE)"
   ]
  },
  {
   "cell_type": "code",
   "execution_count": 22,
   "id": "c08e7ac5-734e-4161-abaa-af429ee26e07",
   "metadata": {},
   "outputs": [
    {
     "data": {
      "image/png": "[encoded data removed]",
      "text/plain": [
       "<Figure size 432x288 with 1 Axes>"
      ]
     },
     "metadata": {
      "needs_background": "light"
     },
     "output_type": "display_data"
    }
   ],
   "source": [
    "#build the graph to check feature importance\n",
    "\n",
    "features = df.columns\n",
    "importances = model.feature_importances_\n",
    "indices = np.argsort(importances)[-10:] #top 10 features\n",
    "plt.title('Feature Importance')\n",
    "plt.barh(range(len(indices)), importances[indices], color='b', align ='center')\n",
    "plt.yticks(range(len(indices)), [features[i] for i in indices])\n",
    "plt.xlabel('Relative Importance')\n",
    "plt.show()"
   ]
  },
  {
   "cell_type": "code",
   "execution_count": 23,
   "id": "0055d51a-3489-435e-ac6d-1893596628f1",
   "metadata": {},
   "outputs": [],
   "source": [
    "#drop the target variable type and load this data into another dataframe\n",
    "\n",
    "df = df.drop(['SCALAR_FACTOR'], axis = 1)\n",
    "df = df.drop(['UOM'], axis = 1)\n",
    "df = df.drop(['DGUID'], axis = 1)\n",
    "df = df.drop(['GEO'], axis = 1)"
   ]
  },
  {
   "cell_type": "code",
   "execution_count": 24,
   "id": "129ee1c7-0542-4db4-83ae-e7cde8b8b283",
   "metadata": {},
   "outputs": [
    {
     "data": {
      "text/html": [
       "<div>\n",
       "<style scoped>\n",
       "    .dataframe tbody tr th:only-of-type {\n",
       "        vertical-align: middle;\n",
       "    }\n",
       "\n",
       "    .dataframe tbody tr th {\n",
       "        vertical-align: top;\n",
       "    }\n",
       "\n",
       "    .dataframe thead th {\n",
       "        text-align: right;\n",
       "    }\n",
       "</style>\n",
       "<table border=\"1\" class=\"dataframe\">\n",
       "  <thead>\n",
       "    <tr style=\"text-align: right;\">\n",
       "      <th></th>\n",
       "      <th>REF_DATE</th>\n",
       "      <th>Trading Partner</th>\n",
       "      <th>North American Product Classification System (NAPCS)</th>\n",
       "      <th>Trade</th>\n",
       "    </tr>\n",
       "  </thead>\n",
       "  <tbody>\n",
       "    <tr>\n",
       "      <th>0</th>\n",
       "      <td>2015</td>\n",
       "      <td>0</td>\n",
       "      <td>0</td>\n",
       "      <td>0</td>\n",
       "    </tr>\n",
       "    <tr>\n",
       "      <th>1</th>\n",
       "      <td>2015</td>\n",
       "      <td>0</td>\n",
       "      <td>0</td>\n",
       "      <td>1</td>\n",
       "    </tr>\n",
       "    <tr>\n",
       "      <th>2</th>\n",
       "      <td>2015</td>\n",
       "      <td>0</td>\n",
       "      <td>1</td>\n",
       "      <td>0</td>\n",
       "    </tr>\n",
       "    <tr>\n",
       "      <th>3</th>\n",
       "      <td>2015</td>\n",
       "      <td>0</td>\n",
       "      <td>1</td>\n",
       "      <td>1</td>\n",
       "    </tr>\n",
       "    <tr>\n",
       "      <th>4</th>\n",
       "      <td>2015</td>\n",
       "      <td>0</td>\n",
       "      <td>2</td>\n",
       "      <td>0</td>\n",
       "    </tr>\n",
       "  </tbody>\n",
       "</table>\n",
       "</div>"
      ],
      "text/plain": [
       "   REF_DATE  Trading Partner  \\\n",
       "0      2015                0   \n",
       "1      2015                0   \n",
       "2      2015                0   \n",
       "3      2015                0   \n",
       "4      2015                0   \n",
       "\n",
       "   North American Product Classification System (NAPCS)  Trade  \n",
       "0                                                  0         0  \n",
       "1                                                  0         1  \n",
       "2                                                  1         0  \n",
       "3                                                  1         1  \n",
       "4                                                  2         0  "
      ]
     },
     "execution_count": 24,
     "metadata": {},
     "output_type": "execute_result"
    }
   ],
   "source": [
    "df.head()"
   ]
  },
  {
   "cell_type": "markdown",
   "id": "4f04f16a-8e27-4bfd-962f-66675b54f0cd",
   "metadata": {},
   "source": [
    "## Backward Feature Reduction"
   ]
  },
  {
   "cell_type": "code",
   "execution_count": 25,
   "id": "b93c47b8-94d2-4def-8583-e1b4c17c8fcb",
   "metadata": {},
   "outputs": [],
   "source": [
    "#import the feature selection libraries and linear regression libraries\n",
    "\n",
    "from sklearn.linear_model import LinearRegression\n",
    "from sklearn.feature_selection import RFE\n",
    "\n",
    "lreg = LinearRegression()\n",
    "rfe = RFE(lreg, n_features_to_select = 7)\n",
    "rfe = rfe.fit(df, dataset.VALUE)"
   ]
  },
  {
   "cell_type": "code",
   "execution_count": 26,
   "id": "1ac2d2c6-fb1d-4c40-a8a3-baf53097b5f7",
   "metadata": {},
   "outputs": [
    {
     "name": "stdout",
     "output_type": "stream",
     "text": [
      "Index(['REF_DATE', 'Trading Partner',\n",
      "       'North American Product Classification System (NAPCS)', 'Trade'],\n",
      "      dtype='object')\n"
     ]
    }
   ],
   "source": [
    "x_rfe = df[df.columns[rfe.support_]]\n",
    "print(x_rfe.columns)"
   ]
  },
  {
   "cell_type": "markdown",
   "id": "5ce5c15c-d9cf-4862-9148-185739f13cd4",
   "metadata": {},
   "source": [
    "## Forward Reduction"
   ]
  },
  {
   "cell_type": "code",
   "execution_count": 27,
   "id": "02723ce2-d787-488c-998e-1ff0c95f9e5c",
   "metadata": {},
   "outputs": [],
   "source": [
    "#import the required libraries for forward selection\n",
    "\n",
    "from sklearn.feature_selection import f_regression\n",
    "ffs = f_regression(x_rfe, dataset.VALUE)"
   ]
  },
  {
   "cell_type": "code",
   "execution_count": 28,
   "id": "e430aa45-3dbf-4c7f-a1da-78f742238926",
   "metadata": {},
   "outputs": [],
   "source": [
    "#Take the top most variables after the forward selection process\n",
    "\n",
    "final_features = [ ]\n",
    "for i in range(0,len(x_rfe.columns)-1):\n",
    "    if ffs[0][i] >=10:\n",
    "        final_features.append(df.columns[i])"
   ]
  },
  {
   "cell_type": "code",
   "execution_count": 29,
   "id": "1a8a69dc-7333-4a6c-b32f-539ee9f6bd42",
   "metadata": {},
   "outputs": [
    {
     "data": {
      "text/plain": [
       "['Trading Partner']"
      ]
     },
     "execution_count": 29,
     "metadata": {},
     "output_type": "execute_result"
    }
   ],
   "source": [
    "final_features"
   ]
  },
  {
   "cell_type": "markdown",
   "id": "6485f528-1cc6-44ea-b070-6aa4d42d3dbd",
   "metadata": {},
   "source": [
    "## Linear Regression"
   ]
  },
  {
   "cell_type": "code",
   "execution_count": 30,
   "id": "7bb48642-fde0-460e-b9c7-a8b115d66ca6",
   "metadata": {},
   "outputs": [],
   "source": [
    "#import the sklearn for data set, linear regression model and also to split the train and test data\n",
    "\n",
    "from sklearn.model_selection import train_test_split\n",
    "from sklearn.linear_model import LinearRegression\n",
    "from sklearn.metrics import mean_squared_error"
   ]
  },
  {
   "cell_type": "code",
   "execution_count": 31,
   "id": "4739b98a-6bdf-47ff-bb95-e1964f126fd9",
   "metadata": {},
   "outputs": [
    {
     "name": "stdout",
     "output_type": "stream",
     "text": [
      "   REF_DATE  Trading Partner  \\\n",
      "0      2015                0   \n",
      "1      2015                0   \n",
      "2      2015                0   \n",
      "3      2015                0   \n",
      "4      2015                0   \n",
      "\n",
      "   North American Product Classification System (NAPCS)  Trade  VALUE  \n",
      "0                                                  0         0    145  \n",
      "1                                                  0         1    139  \n",
      "2                                                  1         0      0  \n",
      "3                                                  1         1      0  \n",
      "4                                                  2         0      0  \n"
     ]
    }
   ],
   "source": [
    "#clearly the target value column is missing lets add that column\n",
    "\n",
    "df['VALUE'] = dataset['VALUE'].astype(np.int64)\n",
    "print(df.head())"
   ]
  },
  {
   "cell_type": "code",
   "execution_count": 32,
   "id": "770baee9-6303-4cf9-9d79-026140e17cc5",
   "metadata": {},
   "outputs": [
    {
     "name": "stdout",
     "output_type": "stream",
     "text": [
      "                                                    REF_DATE  Trading Partner  \\\n",
      "REF_DATE                                                 1.0            -0.00   \n",
      "Trading Partner                                         -0.0             1.00   \n",
      "North American Product Classification System (N...      -0.0            -0.00   \n",
      "Trade                                                   -0.0             0.00   \n",
      "VALUE                                                    0.0             0.07   \n",
      "\n",
      "                                                    North American Product Classification System (NAPCS)  \\\n",
      "REF_DATE                                                                                        -0.00      \n",
      "Trading Partner                                                                                 -0.00      \n",
      "North American Product Classification System (N...                                               1.00      \n",
      "Trade                                                                                           -0.00      \n",
      "VALUE                                                                                            0.01      \n",
      "\n",
      "                                                    Trade  VALUE  \n",
      "REF_DATE                                             -0.0   0.00  \n",
      "Trading Partner                                       0.0   0.07  \n",
      "North American Product Classification System (N...   -0.0   0.01  \n",
      "Trade                                                 1.0   0.00  \n",
      "VALUE                                                 0.0   1.00  \n"
     ]
    }
   ],
   "source": [
    "# compute the pair wise correlation for all columns for feature extraction\n",
    "\n",
    "correlation_matrix = df.corr().round(2)\n",
    "print(correlation_matrix)"
   ]
  },
  {
   "cell_type": "code",
   "execution_count": 33,
   "id": "9237c402-74e4-4caa-9bfa-3f7144317750",
   "metadata": {},
   "outputs": [
    {
     "data": {
      "text/plain": [
       "Text(0, 0.5, 'VALUE')"
      ]
     },
     "execution_count": 33,
     "metadata": {},
     "output_type": "execute_result"
    },
    {
     "data": {
      "image/png": "[encoded data removed]",
      "text/plain": [
       "<Figure size 432x288 with 1 Axes>"
      ]
     },
     "metadata": {
      "needs_background": "light"
     },
     "output_type": "display_data"
    }
   ],
   "source": [
    "#since the correlation of our target variable MEDV is maximum with the RM let us take look at that feature for consideration\n",
    "\n",
    "feature = dataset['Trading Partner']\n",
    "target = dataset['VALUE']\n",
    "plt.scatter(feature, target, marker='o')\n",
    "plt.title('Trading Partner and VALUE RELATION')\n",
    "plt.xlabel('Trading Partner')\n",
    "plt.ylabel('VALUE')"
   ]
  },
  {
   "cell_type": "code",
   "execution_count": 34,
   "id": "565aa684-4b03-4ce9-930d-5b15f0942eb4",
   "metadata": {},
   "outputs": [],
   "source": [
    "#data for preparation\n",
    "#we are taking only RM for demonstrating simple linear regression for more accurate results,\n",
    "#multiple linear regression can also be considered\n",
    "\n",
    "x=df[['Trading Partner']]\n",
    "y=df['VALUE']"
   ]
  },
  {
   "cell_type": "code",
   "execution_count": 35,
   "id": "6b0d9230-62cb-4a32-a560-ec1762eb3d89",
   "metadata": {},
   "outputs": [
    {
     "name": "stdout",
     "output_type": "stream",
     "text": [
      "(34540, 1)\n",
      "(8636, 1)\n",
      "(34540,)\n",
      "(8636,)\n"
     ]
    }
   ],
   "source": [
    "# splits the training and test dataset in 80% : 20%\n",
    "# assign random_state to any value. This ensures consistency\n",
    "\n",
    "X_train, X_test, Y_train, Y_test = train_test_split(x, y, test_size = 0.2, random_state=5)\n",
    "print(X_train.shape)\n",
    "print(X_test.shape)\n",
    "print(Y_train.shape)\n",
    "print(Y_test.shape)"
   ]
  },
  {
   "cell_type": "code",
   "execution_count": 36,
   "id": "3dc304f5-a2d0-41db-92ac-4ddcff3aa293",
   "metadata": {},
   "outputs": [
    {
     "data": {
      "text/plain": [
       "LinearRegression()"
      ]
     },
     "execution_count": 36,
     "metadata": {},
     "output_type": "execute_result"
    }
   ],
   "source": [
    "#creating the linear regression model\n",
    "\n",
    "linear_model = LinearRegression()\n",
    "linear_model.fit(X_train, Y_train)"
   ]
  },
  {
   "cell_type": "code",
   "execution_count": 37,
   "id": "8382a1da-5464-4b3a-8b3a-2a2885e91e0e",
   "metadata": {},
   "outputs": [
    {
     "data": {
      "text/plain": [
       "Text(0, 0.5, 'Dependent variable')"
      ]
     },
     "execution_count": 37,
     "metadata": {},
     "output_type": "execute_result"
    },
    {
     "data": {
      "image/png": "[encoded data removed]",
      "text/plain": [
       "<Figure size 432x288 with 1 Axes>"
      ]
     },
     "metadata": {
      "needs_background": "light"
     },
     "output_type": "display_data"
    }
   ],
   "source": [
    "#get the predicted variables and plot the regression line\n",
    "\n",
    "y_pred = linear_model.predict(X_test)\n",
    "plt.scatter(X_test, Y_test)\n",
    "plt.plot(X_test, y_pred, color ='r')\n",
    "plt.title(\"Linear regression line for boston house data\")\n",
    "plt.xlabel(\"Independent variable\")\n",
    "plt.ylabel(\"Dependent variable\")"
   ]
  },
  {
   "cell_type": "code",
   "execution_count": 38,
   "id": "0598f98b-3422-4dde-84dd-cb1c673f89fc",
   "metadata": {},
   "outputs": [
    {
     "name": "stdout",
     "output_type": "stream",
     "text": [
      "0.0045051057704259545\n"
     ]
    }
   ],
   "source": [
    "#performace of the linear model. Gives R2 score\n",
    "\n",
    "print(linear_model.score(X_test, Y_test))"
   ]
  },
  {
   "cell_type": "code",
   "execution_count": 39,
   "id": "b58654ea-819a-4d4a-a6ac-b445381b3afe",
   "metadata": {},
   "outputs": [
    {
     "name": "stdout",
     "output_type": "stream",
     "text": [
      "7138216079462.531\n"
     ]
    }
   ],
   "source": [
    "print(mean_squared_error(Y_test,y_pred))"
   ]
  },
  {
   "cell_type": "markdown",
   "id": "f5fc7285-1eef-434e-8641-e720cf150bfe",
   "metadata": {},
   "source": [
    "## Logistic Regression"
   ]
  },
  {
   "cell_type": "code",
   "execution_count": 40,
   "id": "2cac3fcf-becc-407e-8247-62f708e58177",
   "metadata": {},
   "outputs": [],
   "source": [
    "#import the sklearn for logistic regression model, prediction and performance evaluation purposes\n",
    "\n",
    "from sklearn.model_selection import train_test_split\n",
    "from sklearn.linear_model import LogisticRegression\n",
    "from sklearn import preprocessing\n",
    "from sklearn import metrics"
   ]
  },
  {
   "cell_type": "code",
   "execution_count": 41,
   "id": "69d6b02d-1391-446b-9c35-62d6791c7c79",
   "metadata": {},
   "outputs": [
    {
     "data": {
      "text/html": [
       "<div>\n",
       "<style scoped>\n",
       "    .dataframe tbody tr th:only-of-type {\n",
       "        vertical-align: middle;\n",
       "    }\n",
       "\n",
       "    .dataframe tbody tr th {\n",
       "        vertical-align: top;\n",
       "    }\n",
       "\n",
       "    .dataframe thead th {\n",
       "        text-align: right;\n",
       "    }\n",
       "</style>\n",
       "<table border=\"1\" class=\"dataframe\">\n",
       "  <thead>\n",
       "    <tr style=\"text-align: right;\">\n",
       "      <th></th>\n",
       "      <th>REF_DATE</th>\n",
       "      <th>Trading Partner</th>\n",
       "      <th>North American Product Classification System (NAPCS)</th>\n",
       "      <th>Trade</th>\n",
       "      <th>VALUE</th>\n",
       "      <th>Value_ID</th>\n",
       "    </tr>\n",
       "  </thead>\n",
       "  <tbody>\n",
       "    <tr>\n",
       "      <th>0</th>\n",
       "      <td>2015</td>\n",
       "      <td>0</td>\n",
       "      <td>0</td>\n",
       "      <td>0</td>\n",
       "      <td>145</td>\n",
       "      <td>0</td>\n",
       "    </tr>\n",
       "    <tr>\n",
       "      <th>1</th>\n",
       "      <td>2015</td>\n",
       "      <td>0</td>\n",
       "      <td>0</td>\n",
       "      <td>1</td>\n",
       "      <td>139</td>\n",
       "      <td>0</td>\n",
       "    </tr>\n",
       "    <tr>\n",
       "      <th>2</th>\n",
       "      <td>2015</td>\n",
       "      <td>0</td>\n",
       "      <td>1</td>\n",
       "      <td>0</td>\n",
       "      <td>0</td>\n",
       "      <td>0</td>\n",
       "    </tr>\n",
       "    <tr>\n",
       "      <th>3</th>\n",
       "      <td>2015</td>\n",
       "      <td>0</td>\n",
       "      <td>1</td>\n",
       "      <td>1</td>\n",
       "      <td>0</td>\n",
       "      <td>0</td>\n",
       "    </tr>\n",
       "    <tr>\n",
       "      <th>4</th>\n",
       "      <td>2015</td>\n",
       "      <td>0</td>\n",
       "      <td>2</td>\n",
       "      <td>0</td>\n",
       "      <td>0</td>\n",
       "      <td>0</td>\n",
       "    </tr>\n",
       "  </tbody>\n",
       "</table>\n",
       "</div>"
      ],
      "text/plain": [
       "   REF_DATE  Trading Partner  \\\n",
       "0      2015                0   \n",
       "1      2015                0   \n",
       "2      2015                0   \n",
       "3      2015                0   \n",
       "4      2015                0   \n",
       "\n",
       "   North American Product Classification System (NAPCS)  Trade  VALUE  \\\n",
       "0                                                  0         0    145   \n",
       "1                                                  0         1    139   \n",
       "2                                                  1         0      0   \n",
       "3                                                  1         1      0   \n",
       "4                                                  2         0      0   \n",
       "\n",
       "   Value_ID  \n",
       "0         0  \n",
       "1         0  \n",
       "2         0  \n",
       "3         0  \n",
       "4         0  "
      ]
     },
     "execution_count": 41,
     "metadata": {},
     "output_type": "execute_result"
    }
   ],
   "source": [
    "# create a list of our conditions\n",
    "conditions = [\n",
    "    (df['VALUE'] <= 183000),\n",
    "    (df['VALUE'] > 183000)\n",
    "    ]\n",
    "\n",
    "# create a list of the values we want to assign for each condition\n",
    "values = [0, 1] # 0 represents Low value and 1 represents High value\n",
    "\n",
    "# create a new column and use np.select to assign values to it using our lists as arguments\n",
    "df['Value_ID'] = np.select(conditions, values)\n",
    "\n",
    "# display updated DataFrame\n",
    "df.head()"
   ]
  },
  {
   "cell_type": "code",
   "execution_count": 42,
   "id": "63000aa9-f3d7-4d7e-bdb5-1e613e5ec051",
   "metadata": {},
   "outputs": [
    {
     "name": "stdout",
     "output_type": "stream",
     "text": [
      "                                                    REF_DATE  Trading Partner  \\\n",
      "REF_DATE                                                1.00            -0.00   \n",
      "Trading Partner                                        -0.00             1.00   \n",
      "North American Product Classification System (N...     -0.00            -0.00   \n",
      "Trade                                                  -0.00             0.00   \n",
      "VALUE                                                   0.00             0.07   \n",
      "Value_ID                                                0.01             0.03   \n",
      "\n",
      "                                                    North American Product Classification System (NAPCS)  \\\n",
      "REF_DATE                                                                                        -0.00      \n",
      "Trading Partner                                                                                 -0.00      \n",
      "North American Product Classification System (N...                                               1.00      \n",
      "Trade                                                                                           -0.00      \n",
      "VALUE                                                                                            0.01      \n",
      "Value_ID                                                                                        -0.02      \n",
      "\n",
      "                                                    Trade  VALUE  Value_ID  \n",
      "REF_DATE                                            -0.00   0.00      0.01  \n",
      "Trading Partner                                      0.00   0.07      0.03  \n",
      "North American Product Classification System (N...  -0.00   0.01     -0.02  \n",
      "Trade                                                1.00   0.00      0.04  \n",
      "VALUE                                                0.00   1.00      0.29  \n",
      "Value_ID                                             0.04   0.29      1.00  \n"
     ]
    }
   ],
   "source": [
    "#Look at the correlation matrix for the maximum correlated variables with the outcome variable\n",
    "\n",
    "correlation_matrix = df.corr().round(2)\n",
    "print(correlation_matrix)"
   ]
  },
  {
   "cell_type": "code",
   "execution_count": 43,
   "id": "d6da27b4-c20b-43f8-b376-396ef544afaa",
   "metadata": {},
   "outputs": [],
   "source": [
    "x = df[['Trading Partner','North American Product Classification System (NAPCS)','Trade']]\n",
    "#x = df[['Trading Partner']]\n",
    "y = df.Value_ID"
   ]
  },
  {
   "cell_type": "code",
   "execution_count": 44,
   "id": "a635111d-5b98-4910-9a4e-429df5143bc4",
   "metadata": {},
   "outputs": [],
   "source": [
    "#Making a labels array\n",
    "labels = ['Trading Partner','North American Product Classification System (NAPCS)','Trade']\n",
    "#labels = ['Trading Partner']"
   ]
  },
  {
   "cell_type": "code",
   "execution_count": 45,
   "id": "971f9a9d-940a-433a-9768-82f4dc8a4ab9",
   "metadata": {},
   "outputs": [
    {
     "name": "stdout",
     "output_type": "stream",
     "text": [
      "Trading Partner                                         256\n",
      "North American Product Classification System (NAPCS)     11\n",
      "Trade                                                     1\n",
      "dtype: int64\n",
      "Trading Partner                                         0\n",
      "North American Product Classification System (NAPCS)    0\n",
      "Trade                                                   0\n",
      "dtype: int64\n"
     ]
    }
   ],
   "source": [
    "print(x.max())\n",
    "print(x.min())"
   ]
  },
  {
   "cell_type": "code",
   "execution_count": 46,
   "id": "46f3390a-f6a6-460f-8a95-a5b53c677af2",
   "metadata": {},
   "outputs": [],
   "source": [
    "#Do the normalization on the data for more easier convergence\n",
    "\n",
    "min_max_scaler = preprocessing.MinMaxScaler()\n",
    "x_scaled = min_max_scaler.fit_transform(x)\n",
    "X = pd.DataFrame(x_scaled)"
   ]
  },
  {
   "cell_type": "code",
   "execution_count": 47,
   "id": "698d4a06-670f-4bd1-8844-124f590d5900",
   "metadata": {},
   "outputs": [
    {
     "data": {
      "text/html": [
       "<div>\n",
       "<style scoped>\n",
       "    .dataframe tbody tr th:only-of-type {\n",
       "        vertical-align: middle;\n",
       "    }\n",
       "\n",
       "    .dataframe tbody tr th {\n",
       "        vertical-align: top;\n",
       "    }\n",
       "\n",
       "    .dataframe thead th {\n",
       "        text-align: right;\n",
       "    }\n",
       "</style>\n",
       "<table border=\"1\" class=\"dataframe\">\n",
       "  <thead>\n",
       "    <tr style=\"text-align: right;\">\n",
       "      <th></th>\n",
       "      <th>REF_DATE</th>\n",
       "      <th>Trading Partner</th>\n",
       "      <th>North American Product Classification System (NAPCS)</th>\n",
       "      <th>Trade</th>\n",
       "      <th>VALUE</th>\n",
       "      <th>Value_ID</th>\n",
       "    </tr>\n",
       "  </thead>\n",
       "  <tbody>\n",
       "    <tr>\n",
       "      <th>0</th>\n",
       "      <td>2015</td>\n",
       "      <td>0</td>\n",
       "      <td>0</td>\n",
       "      <td>0</td>\n",
       "      <td>145</td>\n",
       "      <td>0</td>\n",
       "    </tr>\n",
       "    <tr>\n",
       "      <th>1</th>\n",
       "      <td>2015</td>\n",
       "      <td>0</td>\n",
       "      <td>0</td>\n",
       "      <td>1</td>\n",
       "      <td>139</td>\n",
       "      <td>0</td>\n",
       "    </tr>\n",
       "    <tr>\n",
       "      <th>2</th>\n",
       "      <td>2015</td>\n",
       "      <td>0</td>\n",
       "      <td>1</td>\n",
       "      <td>0</td>\n",
       "      <td>0</td>\n",
       "      <td>0</td>\n",
       "    </tr>\n",
       "    <tr>\n",
       "      <th>3</th>\n",
       "      <td>2015</td>\n",
       "      <td>0</td>\n",
       "      <td>1</td>\n",
       "      <td>1</td>\n",
       "      <td>0</td>\n",
       "      <td>0</td>\n",
       "    </tr>\n",
       "    <tr>\n",
       "      <th>4</th>\n",
       "      <td>2015</td>\n",
       "      <td>0</td>\n",
       "      <td>2</td>\n",
       "      <td>0</td>\n",
       "      <td>0</td>\n",
       "      <td>0</td>\n",
       "    </tr>\n",
       "  </tbody>\n",
       "</table>\n",
       "</div>"
      ],
      "text/plain": [
       "   REF_DATE  Trading Partner  \\\n",
       "0      2015                0   \n",
       "1      2015                0   \n",
       "2      2015                0   \n",
       "3      2015                0   \n",
       "4      2015                0   \n",
       "\n",
       "   North American Product Classification System (NAPCS)  Trade  VALUE  \\\n",
       "0                                                  0         0    145   \n",
       "1                                                  0         1    139   \n",
       "2                                                  1         0      0   \n",
       "3                                                  1         1      0   \n",
       "4                                                  2         0      0   \n",
       "\n",
       "   Value_ID  \n",
       "0         0  \n",
       "1         0  \n",
       "2         0  \n",
       "3         0  \n",
       "4         0  "
      ]
     },
     "execution_count": 47,
     "metadata": {},
     "output_type": "execute_result"
    }
   ],
   "source": [
    "df.head()"
   ]
  },
  {
   "cell_type": "code",
   "execution_count": 48,
   "id": "6e5254b4-2c53-421d-b073-afed50ec6311",
   "metadata": {},
   "outputs": [
    {
     "data": {
      "text/html": [
       "<div>\n",
       "<style scoped>\n",
       "    .dataframe tbody tr th:only-of-type {\n",
       "        vertical-align: middle;\n",
       "    }\n",
       "\n",
       "    .dataframe tbody tr th {\n",
       "        vertical-align: top;\n",
       "    }\n",
       "\n",
       "    .dataframe thead th {\n",
       "        text-align: right;\n",
       "    }\n",
       "</style>\n",
       "<table border=\"1\" class=\"dataframe\">\n",
       "  <thead>\n",
       "    <tr style=\"text-align: right;\">\n",
       "      <th></th>\n",
       "      <th>0</th>\n",
       "      <th>1</th>\n",
       "      <th>2</th>\n",
       "    </tr>\n",
       "  </thead>\n",
       "  <tbody>\n",
       "    <tr>\n",
       "      <th>0</th>\n",
       "      <td>0.0</td>\n",
       "      <td>0.000000</td>\n",
       "      <td>0.0</td>\n",
       "    </tr>\n",
       "    <tr>\n",
       "      <th>1</th>\n",
       "      <td>0.0</td>\n",
       "      <td>0.000000</td>\n",
       "      <td>1.0</td>\n",
       "    </tr>\n",
       "    <tr>\n",
       "      <th>2</th>\n",
       "      <td>0.0</td>\n",
       "      <td>0.090909</td>\n",
       "      <td>0.0</td>\n",
       "    </tr>\n",
       "    <tr>\n",
       "      <th>3</th>\n",
       "      <td>0.0</td>\n",
       "      <td>0.090909</td>\n",
       "      <td>1.0</td>\n",
       "    </tr>\n",
       "    <tr>\n",
       "      <th>4</th>\n",
       "      <td>0.0</td>\n",
       "      <td>0.181818</td>\n",
       "      <td>0.0</td>\n",
       "    </tr>\n",
       "  </tbody>\n",
       "</table>\n",
       "</div>"
      ],
      "text/plain": [
       "     0         1    2\n",
       "0  0.0  0.000000  0.0\n",
       "1  0.0  0.000000  1.0\n",
       "2  0.0  0.090909  0.0\n",
       "3  0.0  0.090909  1.0\n",
       "4  0.0  0.181818  0.0"
      ]
     },
     "execution_count": 48,
     "metadata": {},
     "output_type": "execute_result"
    }
   ],
   "source": [
    "X.head()"
   ]
  },
  {
   "cell_type": "code",
   "execution_count": 49,
   "id": "57da2403-8d65-4ad7-99d3-313eaac9b197",
   "metadata": {},
   "outputs": [],
   "source": [
    "#80% is train data and 20% is test data\n",
    "\n",
    "X_train,X_test,y_train,y_test=train_test_split(X,y,test_size=0.2,random_state=5)"
   ]
  },
  {
   "cell_type": "code",
   "execution_count": 50,
   "id": "d1b877ce-f811-4c54-84da-57c592e879da",
   "metadata": {},
   "outputs": [
    {
     "data": {
      "text/plain": [
       "REF_DATE                                                int64\n",
       "Trading Partner                                         int64\n",
       "North American Product Classification System (NAPCS)    int64\n",
       "Trade                                                   int64\n",
       "VALUE                                                   int64\n",
       "Value_ID                                                int32\n",
       "dtype: object"
      ]
     },
     "execution_count": 50,
     "metadata": {},
     "output_type": "execute_result"
    }
   ],
   "source": [
    "df.dtypes"
   ]
  },
  {
   "cell_type": "code",
   "execution_count": 51,
   "id": "1876d899-3eae-47a0-801d-1a66958cbf5f",
   "metadata": {},
   "outputs": [
    {
     "data": {
      "text/plain": [
       "LogisticRegression()"
      ]
     },
     "execution_count": 51,
     "metadata": {},
     "output_type": "execute_result"
    }
   ],
   "source": [
    "# instatiate the model (using the default parameters)\n",
    "logistic_regression = LogisticRegression()\n",
    "\n",
    "#fit the model with data\n",
    "logistic_regression.fit(X_train, y_train)"
   ]
  },
  {
   "cell_type": "code",
   "execution_count": 52,
   "id": "1fcf92a0-7ea4-46d9-abdf-9954453edb4f",
   "metadata": {},
   "outputs": [],
   "source": [
    "#Do the prediction for the test data\n",
    "y_pred = logistic_regression.predict(X_test)"
   ]
  },
  {
   "cell_type": "code",
   "execution_count": 53,
   "id": "32239afa-f1ae-490c-8d59-3f3a89dc3a3d",
   "metadata": {},
   "outputs": [
    {
     "data": {
      "image/png": "[encoded data removed]",
      "text/plain": [
       "<Figure size 288x216 with 1 Axes>"
      ]
     },
     "metadata": {
      "needs_background": "light"
     },
     "output_type": "display_data"
    },
    {
     "data": {
      "image/png": "[encoded data removed]",
      "text/plain": [
       "<Figure size 288x216 with 1 Axes>"
      ]
     },
     "metadata": {
      "needs_background": "light"
     },
     "output_type": "display_data"
    },
    {
     "data": {
      "image/png": "[encoded data removed]",
      "text/plain": [
       "<Figure size 288x216 with 1 Axes>"
      ]
     },
     "metadata": {
      "needs_background": "light"
     },
     "output_type": "display_data"
    }
   ],
   "source": [
    "#visualising the graph of every variable against the outcome variable\n",
    "\n",
    "for i in range(3):\n",
    "    plt.figure(i, figsize = (4,3))\n",
    "    plt.xlabel(labels[i])\n",
    "    ax=sns.regplot(x=X_test[i], y = y_pred, data=df, logistic = True, ci=None, line_kws={'color':'red'})\n",
    "    ax.set(xlabel=labels[i],ylabel='Trade')\n",
    "    plt.show()"
   ]
  },
  {
   "cell_type": "code",
   "execution_count": 54,
   "id": "c8f30b1a-a840-4baa-8fee-ff16157e3de4",
   "metadata": {},
   "outputs": [
    {
     "name": "stdout",
     "output_type": "stream",
     "text": [
      "[[8086    0]\n",
      " [ 550    0]]\n"
     ]
    }
   ],
   "source": [
    "#Look at the confusion matrix\n",
    "\n",
    "confusion_matrix = metrics.confusion_matrix(y_test, y_pred)\n",
    "print(confusion_matrix)"
   ]
  },
  {
   "cell_type": "code",
   "execution_count": 55,
   "id": "01d9a40e-14bd-4f1b-a593-c097e332545d",
   "metadata": {},
   "outputs": [
    {
     "data": {
      "text/plain": [
       "Text(0.5, 15.0, 'Predicted label')"
      ]
     },
     "execution_count": 55,
     "metadata": {},
     "output_type": "execute_result"
    },
    {
     "data": {
      "image/png": "[encoded data removed]",
      "text/plain": [
       "<Figure size 432x288 with 2 Axes>"
      ]
     },
     "metadata": {
      "needs_background": "light"
     },
     "output_type": "display_data"
    }
   ],
   "source": [
    "#visualising the confusion matrix by creating a heatmap\n",
    "\n",
    "# create heatmap\n",
    "sns.heatmap(pd.DataFrame(confusion_matrix), annot=True, cmap=\"YlGnBu\", fmt='g')\n",
    "plt.title('Confusion matrix')\n",
    "plt.ylabel('Actual label')\n",
    "plt.xlabel('Predicted label')"
   ]
  },
  {
   "cell_type": "code",
   "execution_count": 56,
   "id": "6a7d6098-b460-4b4d-be74-7000dafc13cf",
   "metadata": {},
   "outputs": [
    {
     "name": "stdout",
     "output_type": "stream",
     "text": [
      "Accuracy: 0.9363131079203335\n",
      "Precision: 0.0\n",
      "Recall: 0.0\n"
     ]
    },
    {
     "name": "stderr",
     "output_type": "stream",
     "text": [
      "C:\\Users\\visha\\AppData\\Roaming\\Python\\Python39\\site-packages\\sklearn\\metrics\\_classification.py:1318: UndefinedMetricWarning: Precision is ill-defined and being set to 0.0 due to no predicted samples. Use `zero_division` parameter to control this behavior.\n",
      "  _warn_prf(average, modifier, msg_start, len(result))\n"
     ]
    }
   ],
   "source": [
    "#Looking at the performace of the model\n",
    "\n",
    "print(\"Accuracy:\", metrics.accuracy_score(y_test, y_pred))\n",
    "print(\"Precision:\", metrics.precision_score(y_test, y_pred))\n",
    "print(\"Recall:\", metrics.recall_score(y_test, y_pred))"
   ]
  },
  {
   "cell_type": "markdown",
   "id": "05cd0ac5-f421-45b7-baf8-1c856a693771",
   "metadata": {},
   "source": [
    "## K Cluster Analysis"
   ]
  },
  {
   "cell_type": "code",
   "execution_count": 57,
   "id": "bf172566-b67a-4f72-92b3-0c8ce9d51193",
   "metadata": {},
   "outputs": [],
   "source": [
    "# Import the required libraries\n",
    "\n",
    "import sklearn.metrics as sm\n",
    "from sklearn.cluster import KMeans\n",
    "from sklearn import datasets"
   ]
  },
  {
   "cell_type": "code",
   "execution_count": 58,
   "id": "fe9e4560-c98d-43ea-884b-b75d21d5a8e1",
   "metadata": {},
   "outputs": [
    {
     "data": {
      "text/plain": [
       "Index(['REF_DATE', 'Trading Partner',\n",
       "       'North American Product Classification System (NAPCS)', 'Trade',\n",
       "       'VALUE', 'Value_ID'],\n",
       "      dtype='object')"
      ]
     },
     "execution_count": 58,
     "metadata": {},
     "output_type": "execute_result"
    }
   ],
   "source": [
    "#Look at the features of the dataset\n",
    "\n",
    "df.keys()"
   ]
  },
  {
   "cell_type": "code",
   "execution_count": 59,
   "id": "456811ac-f2bc-42c3-b22d-5c93cad0b33e",
   "metadata": {},
   "outputs": [],
   "source": [
    "new_df = df.drop(['Value_ID'], axis = 1)\n",
    "new_df = new_df.drop(['VALUE'], axis = 1)\n",
    "x = new_df"
   ]
  },
  {
   "cell_type": "code",
   "execution_count": 60,
   "id": "dc3bbbc0-a267-4a6a-889b-4bdea7af0730",
   "metadata": {},
   "outputs": [],
   "source": [
    "y = df['Value_ID']"
   ]
  },
  {
   "cell_type": "code",
   "execution_count": 61,
   "id": "b36d9a11-10c8-4fad-9317-5888e9cb04b8",
   "metadata": {},
   "outputs": [
    {
     "data": {
      "image/png": "[encoded data removed]",
      "text/plain": [
       "<Figure size 432x288 with 1 Axes>"
      ]
     },
     "metadata": {
      "needs_background": "light"
     },
     "output_type": "display_data"
    }
   ],
   "source": [
    "# calculate distortion for a range of number of cluster\n",
    "\n",
    "distortions = []\n",
    "for i in range(1, 10):\n",
    "    km = KMeans(\n",
    "        n_clusters=i, init='random',\n",
    "        n_init=10, max_iter=300,\n",
    "        tol=1e-04, random_state=0\n",
    "    )\n",
    "    km.fit(x)\n",
    "    distortions.append(km.inertia_)\n",
    "    \n",
    "#plot\n",
    "plt.plot(range(1,10), distortions, marker ='o')\n",
    "plt.xlabel('Number of clusters')\n",
    "plt.ylabel('Distortion')\n",
    "plt.show()"
   ]
  },
  {
   "cell_type": "code",
   "execution_count": 62,
   "id": "5d987eee-cd89-4558-aeea-8e5e2871649c",
   "metadata": {},
   "outputs": [
    {
     "data": {
      "text/plain": [
       "KMeans(n_clusters=3)"
      ]
     },
     "execution_count": 62,
     "metadata": {},
     "output_type": "execute_result"
    }
   ],
   "source": [
    "model = KMeans(n_clusters=3)\n",
    "model.fit(x)"
   ]
  },
  {
   "cell_type": "code",
   "execution_count": 63,
   "id": "7fb8827a-dc4c-497b-958c-757249f1f6cd",
   "metadata": {},
   "outputs": [
    {
     "data": {
      "text/plain": [
       "<matplotlib.collections.PathCollection at 0x2598e020280>"
      ]
     },
     "execution_count": 63,
     "metadata": {},
     "output_type": "execute_result"
    },
    {
     "data": {
      "image/png": "[encoded data removed]",
      "text/plain": [
       "<Figure size 432x288 with 1 Axes>"
      ]
     },
     "metadata": {
      "needs_background": "light"
     },
     "output_type": "display_data"
    }
   ],
   "source": [
    "plt.scatter(x['Trading Partner'], x['North American Product Classification System (NAPCS)'])"
   ]
  },
  {
   "cell_type": "code",
   "execution_count": 64,
   "id": "b5fbcf44-6cdb-416b-ae36-a3f6bdfe4940",
   "metadata": {},
   "outputs": [],
   "source": [
    "colormap = np.array(['Red', 'green', 'blue'])"
   ]
  },
  {
   "cell_type": "code",
   "execution_count": 65,
   "id": "cfcb45e1-bff2-485f-87fd-6179e669115c",
   "metadata": {},
   "outputs": [
    {
     "data": {
      "text/plain": [
       "Text(0.5, 1.0, 'Classification K-means')"
      ]
     },
     "execution_count": 65,
     "metadata": {},
     "output_type": "execute_result"
    },
    {
     "data": {
      "image/png": "[encoded data removed]",
      "text/plain": [
       "<Figure size 432x288 with 1 Axes>"
      ]
     },
     "metadata": {
      "needs_background": "light"
     },
     "output_type": "display_data"
    }
   ],
   "source": [
    "#Checking the graph of predicted labels\n",
    "\n",
    "plt.scatter(x['Trading Partner'], x['North American Product Classification System (NAPCS)'], c=colormap[y], s=40)\n",
    "plt.title('Classification K-means')"
   ]
  },
  {
   "cell_type": "code",
   "execution_count": 66,
   "id": "dbd4dfdf-bc30-4e34-9fac-6ab9dd8600bc",
   "metadata": {},
   "outputs": [
    {
     "data": {
      "text/plain": [
       "array([[2.018e+03, 2.145e+02, 5.500e+00, 5.000e-01],\n",
       "       [2.018e+03, 4.300e+01, 5.500e+00, 5.000e-01],\n",
       "       [2.018e+03, 1.295e+02, 5.500e+00, 5.000e-01]])"
      ]
     },
     "execution_count": 66,
     "metadata": {},
     "output_type": "execute_result"
    }
   ],
   "source": [
    "#To get the centroids of the clusters\n",
    "\n",
    "model.cluster_centers_"
   ]
  },
  {
   "cell_type": "code",
   "execution_count": 67,
   "id": "5319a8fd-6b91-4eca-9575-1da399cc3a8f",
   "metadata": {},
   "outputs": [
    {
     "data": {
      "text/plain": [
       "array([1, 1, 1, ..., 0, 0, 0])"
      ]
     },
     "execution_count": 67,
     "metadata": {},
     "output_type": "execute_result"
    }
   ],
   "source": [
    "model.labels_"
   ]
  },
  {
   "cell_type": "code",
   "execution_count": 68,
   "id": "ddd25841-8de0-4904-a6d2-0cd651416efe",
   "metadata": {},
   "outputs": [
    {
     "data": {
      "image/png": "[encoded data removed]",
      "text/plain": [
       "<Figure size 432x288 with 1 Axes>"
      ]
     },
     "metadata": {
      "needs_background": "light"
     },
     "output_type": "display_data"
    }
   ],
   "source": [
    "#Visualization of the classification of the labels predicted by the model\n",
    "\n",
    "plt.scatter(x['Trading Partner'], x['North American Product Classification System (NAPCS)'], c=colormap[model.labels_], s=40)\n",
    "plt.title('Classification K-means')\n",
    "plt.show()"
   ]
  },
  {
   "cell_type": "code",
   "execution_count": 69,
   "id": "22071af0-27c7-4683-a774-1cbc3b23978d",
   "metadata": {},
   "outputs": [
    {
     "data": {
      "text/plain": [
       "array([1, 1, 1, ..., 0, 0, 0])"
      ]
     },
     "execution_count": 69,
     "metadata": {},
     "output_type": "execute_result"
    }
   ],
   "source": [
    "model.predict(x)"
   ]
  },
  {
   "cell_type": "code",
   "execution_count": 70,
   "id": "133716c0-980f-488d-80ee-250758d0a4d3",
   "metadata": {},
   "outputs": [],
   "source": [
    "y_km=model.labels_"
   ]
  },
  {
   "cell_type": "markdown",
   "id": "4f0ad68e-f916-4efe-90e8-2b87cdbd6758",
   "metadata": {},
   "source": [
    "K-means is not a classification tool so analyzing accuracy is not a good idea. Thus, I would not use it for predicting target variable."
   ]
  },
  {
   "cell_type": "markdown",
   "id": "8b9c7f92-0a95-45c0-9438-29ad5dcd4fff",
   "metadata": {},
   "source": [
    "## Decision Tree"
   ]
  },
  {
   "cell_type": "code",
   "execution_count": 71,
   "id": "374f936d-cd86-4458-81d7-c28945d9b2f4",
   "metadata": {},
   "outputs": [],
   "source": [
    "#data visualization\n",
    "import seaborn as sns\n",
    "%matplotlib inline\n",
    "from matplotlib import pyplot as plt\n",
    "from matplotlib import style\n",
    "\n",
    "#importing the decision tree module\n",
    "\n",
    "from sklearn.tree import DecisionTreeClassifier\n",
    "from sklearn.model_selection import train_test_split"
   ]
  },
  {
   "cell_type": "code",
   "execution_count": 72,
   "id": "0022b13f-4275-44b9-bf78-c30a71df61ed",
   "metadata": {},
   "outputs": [],
   "source": [
    "X = new_df\n",
    "y = df['Value_ID']"
   ]
  },
  {
   "cell_type": "code",
   "execution_count": 73,
   "id": "6b287692-6583-4177-8aa9-5d9fd99fadfc",
   "metadata": {},
   "outputs": [
    {
     "name": "stdout",
     "output_type": "stream",
     "text": [
      "(34540, 4)\n",
      "(8636, 4)\n",
      "(34540,)\n",
      "(8636,)\n"
     ]
    }
   ],
   "source": [
    "X_train,X_test,Y_train,Y_test=train_test_split(X,y,test_size=0.2,random_state=5)\n",
    "print(X_train.shape)\n",
    "print(X_test.shape)\n",
    "print(Y_train.shape)\n",
    "print(Y_test.shape)"
   ]
  },
  {
   "cell_type": "code",
   "execution_count": 74,
   "id": "bddb521c-6bc9-4795-adcd-1e905cf8fe7a",
   "metadata": {},
   "outputs": [
    {
     "data": {
      "text/plain": [
       "DecisionTreeClassifier()"
      ]
     },
     "execution_count": 74,
     "metadata": {},
     "output_type": "execute_result"
    }
   ],
   "source": [
    "#create the decision tree classifier\n",
    "\n",
    "decision_tree = DecisionTreeClassifier()\n",
    "decision_tree.fit(X_train, Y_train)"
   ]
  },
  {
   "cell_type": "code",
   "execution_count": 75,
   "id": "90612a80-4272-47b9-9738-e313e6816e30",
   "metadata": {},
   "outputs": [
    {
     "name": "stdout",
     "output_type": "stream",
     "text": [
      "[0 0 0 ... 0 0 0]\n"
     ]
    }
   ],
   "source": [
    "#predicting with the test data\n",
    "\n",
    "Y_pred = decision_tree.predict(X_test)\n",
    "print(Y_pred)"
   ]
  },
  {
   "cell_type": "code",
   "execution_count": 76,
   "id": "d7b8fea1-0e44-48e5-be63-8d0eb1dee7ae",
   "metadata": {},
   "outputs": [
    {
     "name": "stdout",
     "output_type": "stream",
     "text": [
      "100.0\n"
     ]
    }
   ],
   "source": [
    "#printing the accuracy score of the model\n",
    "\n",
    "acc_decision_tree = round(decision_tree.score(X_train, Y_train) * 100, 2)\n",
    "print(acc_decision_tree)"
   ]
  },
  {
   "cell_type": "code",
   "execution_count": 77,
   "id": "e5502ae2-2508-41c1-9b6a-4e432522dfc6",
   "metadata": {},
   "outputs": [],
   "source": [
    "#Visualize the Decision Tree\n",
    "\n",
    "from sklearn.datasets import load_iris\n",
    "from sklearn import tree"
   ]
  },
  {
   "cell_type": "code",
   "execution_count": 78,
   "id": "c9e4dc9e-8645-4a69-a96b-54927bd68779",
   "metadata": {},
   "outputs": [],
   "source": [
    "#Make feature_names array and class_names array\n",
    "\n",
    "fn=['REF_DATE', 'Trading Partner', 'North American Product Classification System (NAPCS)', 'Trade']\n",
    "cn = ['High value', 'Low value']"
   ]
  },
  {
   "cell_type": "code",
   "execution_count": 79,
   "id": "84f6f8b2-a863-47ff-af69-912eddf556c1",
   "metadata": {},
   "outputs": [
    {
     "data": {
      "image/png": "[encoded data removed]",
      "text/plain": [
       "<Figure size 432x288 with 1 Axes>"
      ]
     },
     "metadata": {
      "needs_background": "light"
     },
     "output_type": "display_data"
    }
   ],
   "source": [
    "tree.plot_tree(decision_tree,\n",
    "               feature_names = fn,\n",
    "               class_names = cn,\n",
    "               filled = True);"
   ]
  },
  {
   "cell_type": "code",
   "execution_count": 80,
   "id": "bec61de8-6149-4e60-808a-046c0b6c7efd",
   "metadata": {},
   "outputs": [],
   "source": [
    "tree.export_graphviz(decision_tree,\n",
    "                     out_file = \"tree.dot\",\n",
    "                     feature_names = fn,\n",
    "                     class_names = cn,\n",
    "                     filled = True)"
   ]
  },
  {
   "cell_type": "markdown",
   "id": "ba51c393-4aa9-4d98-894f-92e0f6517cc5",
   "metadata": {},
   "source": [
    "## SVM"
   ]
  },
  {
   "cell_type": "code",
   "execution_count": 81,
   "id": "a0b3fa62-0a34-48c6-95a4-3eded5117466",
   "metadata": {},
   "outputs": [],
   "source": [
    "#Import the required modules from the sklearn for model building, evaluating performance\n",
    "\n",
    "from sklearn import datasets\n",
    "from sklearn.model_selection import train_test_split\n",
    "from sklearn.svm import SVC\n",
    "from sklearn.metrics import confusion_matrix\n",
    "from sklearn.model_selection import cross_val_score"
   ]
  },
  {
   "cell_type": "code",
   "execution_count": 82,
   "id": "c4037d43-7307-4b5c-8dcb-fafce4a65272",
   "metadata": {},
   "outputs": [],
   "source": [
    "x = new_df\n",
    "y = df['Value_ID']"
   ]
  },
  {
   "cell_type": "code",
   "execution_count": 83,
   "id": "379f3511-a744-42cd-adbd-ca4c5f704de4",
   "metadata": {},
   "outputs": [],
   "source": [
    "#Split the data into training and testing data\n",
    "\n",
    "X_train, X_test, Y_train, Y_test = train_test_split(x, y, test_size = 0.2)"
   ]
  },
  {
   "cell_type": "code",
   "execution_count": 84,
   "id": "c83f00eb-d27e-4030-b7cc-6ec895c1e0cb",
   "metadata": {},
   "outputs": [
    {
     "data": {
      "text/plain": [
       "SVC(kernel='linear', random_state=0)"
      ]
     },
     "execution_count": 84,
     "metadata": {},
     "output_type": "execute_result"
    }
   ],
   "source": [
    "#Create the SVM model\n",
    "\n",
    "SVM = SVC(kernel = 'linear', random_state = 0)\n",
    "\n",
    "#Fit the model for the data\n",
    "SVM.fit(X_train, Y_train.values.ravel()) #.ravel()"
   ]
  },
  {
   "cell_type": "code",
   "execution_count": 85,
   "id": "9fdc7339-20a8-4afd-83bc-8d65fec7a242",
   "metadata": {},
   "outputs": [],
   "source": [
    "#Make the prediction\n",
    "\n",
    "y_pred = SVM.predict(X_test)"
   ]
  },
  {
   "cell_type": "code",
   "execution_count": 86,
   "id": "79efda95-ab82-4592-8caa-43ce63a9eefb",
   "metadata": {},
   "outputs": [
    {
     "data": {
      "text/plain": [
       "array([0, 0, 0, ..., 0, 0, 0])"
      ]
     },
     "execution_count": 86,
     "metadata": {},
     "output_type": "execute_result"
    }
   ],
   "source": [
    "y_pred"
   ]
  },
  {
   "cell_type": "code",
   "execution_count": 87,
   "id": "84d0041b-3d63-43d0-bc29-dda9edd1d2ac",
   "metadata": {},
   "outputs": [
    {
     "name": "stdout",
     "output_type": "stream",
     "text": [
      "[[8110    0]\n",
      " [ 526    0]]\n"
     ]
    }
   ],
   "source": [
    "#Performance evaluation using confusion matrix\n",
    "\n",
    "confusion_matrix = confusion_matrix(Y_test, y_pred)\n",
    "print(confusion_matrix)"
   ]
  },
  {
   "cell_type": "code",
   "execution_count": 88,
   "id": "c70998ea-1594-4a40-a443-aafaa1caaca1",
   "metadata": {},
   "outputs": [],
   "source": [
    "cm_df = pd.DataFrame(confusion_matrix, index = ['Low value', 'High value'], columns = ['Low value', 'High value'])"
   ]
  },
  {
   "cell_type": "code",
   "execution_count": 89,
   "id": "284ca738-62bf-4a50-af46-18df619a070a",
   "metadata": {},
   "outputs": [
    {
     "data": {
      "text/plain": [
       "Text(33.0, 0.5, 'Actual Values')"
      ]
     },
     "execution_count": 89,
     "metadata": {},
     "output_type": "execute_result"
    },
    {
     "data": {
      "image/png": "[encoded data removed]",
      "text/plain": [
       "<Figure size 432x288 with 2 Axes>"
      ]
     },
     "metadata": {
      "needs_background": "light"
     },
     "output_type": "display_data"
    }
   ],
   "source": [
    "p = sns.heatmap(cm_df, annot = True)\n",
    "\n",
    "p.set_xlabel('Predicted Values', fontsize=10)\n",
    "p.set_ylabel('Actual Values', fontsize=10)"
   ]
  },
  {
   "cell_type": "code",
   "execution_count": 90,
   "id": "d7e93345-f111-4a4f-8fb0-f1d976e74ec3",
   "metadata": {},
   "outputs": [
    {
     "data": {
      "text/plain": [
       "<AxesSubplot:>"
      ]
     },
     "execution_count": 90,
     "metadata": {},
     "output_type": "execute_result"
    },
    {
     "data": {
      "image/png": "[encoded data removed]",
      "text/plain": [
       "<Figure size 432x288 with 2 Axes>"
      ]
     },
     "metadata": {
      "needs_background": "light"
     },
     "output_type": "display_data"
    }
   ],
   "source": [
    "sns.heatmap(cm_df/np.sum(cm_df), annot=True, fmt='.2%', cmap='Blues')"
   ]
  },
  {
   "cell_type": "code",
   "execution_count": null,
   "id": "2528819f-43f0-4311-9af8-d50a320b0e5a",
   "metadata": {},
   "outputs": [],
   "source": [
    "accuracy = cross_val_score(estimator = SVM, X = X_train, y = Y_train.values.ravel(), cv=10)\n",
    "\n",
    "print('Accuracy: {:.2f}%'.format(accuracy.mean()*100))\n",
    "print('Standard Deviation:{:.2f}%'.format(accuracy.std()*100))"
   ]
  },
  {
   "cell_type": "code",
   "execution_count": null,
   "id": "70f702a4-ee91-47e2-b44b-c46b5476de58",
   "metadata": {},
   "outputs": [],
   "source": []
  }
 ],
 "metadata": {
  "kernelspec": {
   "display_name": "Python 3 (ipykernel)",
   "language": "python",
   "name": "python3"
  },
  "language_info": {
   "codemirror_mode": {
    "name": "ipython",
    "version": 3
   },
   "file_extension": ".py",
   "mimetype": "text/x-python",
   "name": "python",
   "nbconvert_exporter": "python",
   "pygments_lexer": "ipython3",
   "version": "3.9.7"
  }
 },
 "nbformat": 4,
 "nbformat_minor": 5
}
